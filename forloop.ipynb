{
 "cells": [
  {
   "cell_type": "code",
   "execution_count": null,
   "id": "beef1818",
   "metadata": {},
   "outputs": [],
   "source": [
    "#lab experiment \n",
    "# Exp - 3 , 7 , 8,9,4 \n",
    "#use conditional statement (if , elif and else) and match- case \n",
    "# statements (Pattern matching)"
   ]
  },
  {
   "cell_type": "markdown",
   "id": "56e05bc9",
   "metadata": {},
   "source": [
    "# LOOPs"
   ]
  },
  {
   "cell_type": "markdown",
   "id": "9e2a8f9a",
   "metadata": {},
   "source": [
    "#### What is a LOOP?\n",
    "- A loop is used to repeat a block of code multiple times \n",
    "until a condition is met \n",
    "- instead of writing the same code again and again , loops make \n",
    "it easier "
   ]
  },
  {
   "cell_type": "code",
   "execution_count": null,
   "id": "66d682ad",
   "metadata": {},
   "outputs": [],
   "source": [
    "#types of loop \n",
    "# 1 - for loop \n",
    "# 2 - while loop"
   ]
  },
  {
   "cell_type": "code",
   "execution_count": null,
   "id": "eb32974e",
   "metadata": {},
   "outputs": [],
   "source": [
    "#for loop \n",
    "# used when you know how many times you want to repeat \n",
    "# iterates over a sequence(list , tuple , range , string etc)"
   ]
  },
  {
   "cell_type": "code",
   "execution_count": null,
   "id": "13e40b04",
   "metadata": {},
   "outputs": [
    {
     "name": "stdout",
     "output_type": "stream",
     "text": [
      "p\n",
      "y\n",
      "t\n",
      "h\n",
      "o\n",
      "n\n"
     ]
    }
   ],
   "source": [
    "#string \n",
    "#i -- > temp variable \n",
    "for i in \"python\":\n",
    "    print(i) "
   ]
  },
  {
   "cell_type": "code",
   "execution_count": 2,
   "id": "b352a878",
   "metadata": {},
   "outputs": [
    {
     "name": "stdout",
     "output_type": "stream",
     "text": [
      "10\n",
      "20\n",
      "30\n",
      "40\n",
      "50\n"
     ]
    }
   ],
   "source": [
    "#list \n",
    "lst = [10,20,30,40,50]\n",
    "for i in lst:\n",
    "    print(i)"
   ]
  },
  {
   "cell_type": "code",
   "execution_count": 7,
   "id": "f7323a59",
   "metadata": {},
   "outputs": [
    {
     "name": "stdout",
     "output_type": "stream",
     "text": [
      "1\n",
      "3\n",
      "5\n",
      "7\n",
      "9\n",
      "11\n",
      "13\n",
      "15\n",
      "17\n",
      "19\n"
     ]
    }
   ],
   "source": [
    "#(start,end ,skip)\n",
    "for i in range(1,20,2):\n",
    "    print(i)"
   ]
  },
  {
   "cell_type": "code",
   "execution_count": 10,
   "id": "8d7e9f60",
   "metadata": {},
   "outputs": [
    {
     "name": "stdout",
     "output_type": "stream",
     "text": [
      "name ----> John\n",
      "age ----> 30\n",
      "city ----> New York\n"
     ]
    }
   ],
   "source": [
    "dt = {\n",
    "    \"name\": \"John\",\n",
    "    \"age\": 30,\n",
    "    \"city\": \"New York\"\n",
    "}\n",
    "for i,j in dt.items():\n",
    "    print(i,\"---->\",j)"
   ]
  },
  {
   "cell_type": "code",
   "execution_count": 15,
   "id": "b4046fba",
   "metadata": {},
   "outputs": [
    {
     "name": "stdout",
     "output_type": "stream",
     "text": [
      "red 10\n",
      "red 20\n",
      "black 10\n",
      "black 20\n",
      "done\n"
     ]
    }
   ],
   "source": [
    "#nested for  loop\n",
    "lst = [\"red\",\"black\"]\n",
    "lst1 = [10,20]\n",
    "for i in lst:\n",
    "    for j in lst1:\n",
    "        print(i,j) \n",
    "else:\n",
    "    print(\"done\")"
   ]
  },
  {
   "cell_type": "code",
   "execution_count": 18,
   "id": "a47ecbfe",
   "metadata": {},
   "outputs": [
    {
     "name": "stdout",
     "output_type": "stream",
     "text": [
      "10\n",
      "9\n",
      "8\n",
      "7\n",
      "6\n",
      "5\n",
      "4\n",
      "3\n",
      "2\n"
     ]
    }
   ],
   "source": [
    "#break , continue , pass\n",
    "# for i in range(10):\n",
    "#     pass\n",
    "\n",
    "#break \n",
    "for i in range(10,1,-1):\n",
    "    \n",
    "    print(i)\n"
   ]
  },
  {
   "cell_type": "code",
   "execution_count": null,
   "id": "f10864cc",
   "metadata": {},
   "outputs": [
    {
     "name": "stdout",
     "output_type": "stream",
     "text": [
      "number of vowels---> 3\n"
     ]
    }
   ],
   "source": [
    "#print the squares of numbers from 1 to 10 and store them in a list \n",
    "# squares = [1,4,9,16,25,36,49,64,81,100]\n",
    "# lst = [1,2,3,4,5,6,7,8,9,10]\n",
    "# lst1 = []\n",
    "# for i in lst:\n",
    "#     lst1.append(i**2)\n",
    "# print(lst1)\n",
    "\n",
    "# count how many vowels are there in word \"programming\"\n",
    "text = \"programming\"\n",
    "vowels = \"aeiou\"\n",
    "count = 0 \n",
    "\n",
    "for char in text:\n",
    "    if char in vowels:\n",
    "        count += 1\n",
    "print(\"number of vowels--->\",count)\n",
    "\n",
    "#text = \"python is amazing\"\n",
    "#output = \"mazimg si nohtyp\"\n",
    "# reverse the each word of string\n"
   ]
  },
  {
   "cell_type": "code",
   "execution_count": null,
   "id": "08ad93a7",
   "metadata": {},
   "outputs": [],
   "source": [
    "# 1 to 4 , 7, 8 , 9 "
   ]
  },
  {
   "cell_type": "code",
   "execution_count": null,
   "id": "f8e42771",
   "metadata": {},
   "outputs": [],
   "source": [
    "#match case statement"
   ]
  }
 ],
 "metadata": {
  "kernelspec": {
   "display_name": "Python 3",
   "language": "python",
   "name": "python3"
  },
  "language_info": {
   "codemirror_mode": {
    "name": "ipython",
    "version": 3
   },
   "file_extension": ".py",
   "mimetype": "text/x-python",
   "name": "python",
   "nbconvert_exporter": "python",
   "pygments_lexer": "ipython3",
   "version": "3.11.9"
  }
 },
 "nbformat": 4,
 "nbformat_minor": 5
}
