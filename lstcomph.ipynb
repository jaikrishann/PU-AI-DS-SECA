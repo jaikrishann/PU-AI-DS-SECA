{
 "cells": [
  {
   "cell_type": "code",
   "execution_count": null,
   "id": "70de2bec",
   "metadata": {},
   "outputs": [],
   "source": [
    "#list comprehension is a concise way to create a new list by \n",
    "# doing some operation on each member of an existing list\n",
    "\n",
    "#syntax \n",
    "# [expression/output for variable in iterable if condition(optional)]"
   ]
  },
  {
   "cell_type": "code",
   "execution_count": 3,
   "id": "d770d927",
   "metadata": {},
   "outputs": [
    {
     "name": "stdout",
     "output_type": "stream",
     "text": [
      "[2, 4, 6]\n"
     ]
    }
   ],
   "source": [
    "lst = [2,3,4,5,6,7]\n",
    "#sq and save output in a list\n",
    "# temp = []\n",
    "# for i in lst:\n",
    "#     temp.append(i**2)\n",
    "# print(temp)\n",
    "# #using list comprehension\n",
    "# print([i**2 for i in lst])\n",
    "print([i for i in lst if i%2==0])"
   ]
  },
  {
   "cell_type": "code",
   "execution_count": 7,
   "id": "ccec1177",
   "metadata": {},
   "outputs": [
    {
     "name": "stdout",
     "output_type": "stream",
     "text": [
      "1\n",
      "2\n",
      "3\n",
      "4\n",
      "5\n",
      "6\n"
     ]
    }
   ],
   "source": [
    "lst = [[1,2],[3,4],[5,6]]\n",
    "#output - [1,2,3,4,5,6]\n",
    "\n",
    "# print([j for i in lst for j in i])\n",
    "for i in lst:\n",
    "    for j in i:\n",
    "        print(j)"
   ]
  },
  {
   "cell_type": "code",
   "execution_count": null,
   "id": "0ae08d43",
   "metadata": {},
   "outputs": [],
   "source": []
  },
  {
   "cell_type": "code",
   "execution_count": null,
   "id": "1a5b271a",
   "metadata": {},
   "outputs": [],
   "source": []
  },
  {
   "cell_type": "code",
   "execution_count": null,
   "id": "681ce892",
   "metadata": {},
   "outputs": [],
   "source": []
  },
  {
   "cell_type": "code",
   "execution_count": null,
   "id": "65681fe9",
   "metadata": {},
   "outputs": [],
   "source": []
  },
  {
   "cell_type": "code",
   "execution_count": null,
   "id": "82db81c0",
   "metadata": {},
   "outputs": [],
   "source": []
  },
  {
   "cell_type": "code",
   "execution_count": null,
   "id": "695fd07c",
   "metadata": {},
   "outputs": [],
   "source": []
  },
  {
   "cell_type": "code",
   "execution_count": null,
   "id": "b42cc808",
   "metadata": {},
   "outputs": [],
   "source": []
  }
 ],
 "metadata": {
  "kernelspec": {
   "display_name": "Python 3",
   "language": "python",
   "name": "python3"
  },
  "language_info": {
   "codemirror_mode": {
    "name": "ipython",
    "version": 3
   },
   "file_extension": ".py",
   "mimetype": "text/x-python",
   "name": "python",
   "nbconvert_exporter": "python",
   "pygments_lexer": "ipython3",
   "version": "3.11.9"
  }
 },
 "nbformat": 4,
 "nbformat_minor": 5
}
