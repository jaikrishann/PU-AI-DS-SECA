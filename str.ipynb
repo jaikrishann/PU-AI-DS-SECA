{
 "cells": [
  {
   "cell_type": "code",
   "execution_count": null,
   "id": "8b23741e",
   "metadata": {},
   "outputs": [],
   "source": [
    "## data type \n",
    "# -- a data type is a classsification that tells the \n",
    "#computer what kind of value is stored in a variable \n",
    "#and what operation can be performed on it .\n",
    "\n",
    "## categories in which data types are classified\n",
    "# 1 - numeric -- int , float , complex\n",
    "#2 - sequence -- list , tuple , str \n",
    "#3 set -- set , frozenset\n",
    "#4 - mapping -- dict\n",
    "#5 - boolean -- bool\n",
    "#6 - binary -- bytes , bytearray , memoryview\n",
    "#7 - none -- NoneType"
   ]
  },
  {
   "cell_type": "code",
   "execution_count": null,
   "id": "f71e1ba6",
   "metadata": {},
   "outputs": [],
   "source": [
    "## string \n",
    "##-- a string is a seq of characters enclosed in single quotes \n",
    "#or double quotes or triple quotes\n",
    "# string are immutable -- once created they cannot be changed \n",
    "# ex -- \"hello world\"\n",
    "# ex -- 'hello world'\n",
    "# ex -- \"\"\"hello \n",
    "# hello world\n",
    "# hello world\"\"\" \n",
    "\n",
    "#features \n",
    "#1 -- ordered\n",
    "# 2 -- immutable\n",
    "# 3 -- supports indexing and slicing concept  "
   ]
  },
  {
   "cell_type": "code",
   "execution_count": null,
   "id": "6b8bc850",
   "metadata": {},
   "outputs": [],
   "source": []
  },
  {
   "cell_type": "code",
   "execution_count": 1,
   "id": "797b129b",
   "metadata": {},
   "outputs": [
    {
     "name": "stdout",
     "output_type": "stream",
     "text": [
      "hello world\n"
     ]
    }
   ],
   "source": [
    "print(\"hello world\")"
   ]
  },
  {
   "cell_type": "code",
   "execution_count": null,
   "id": "3e2cfa98",
   "metadata": {},
   "outputs": [
    {
     "data": {
      "text/plain": [
       "int"
      ]
     },
     "execution_count": 2,
     "metadata": {},
     "output_type": "execute_result"
    }
   ],
   "source": [
    "a = 10 \n",
    "type(a)  # data type check karne ke liye\n"
   ]
  },
  {
   "cell_type": "code",
   "execution_count": 5,
   "id": "72ef1269",
   "metadata": {},
   "outputs": [
    {
     "name": "stdout",
     "output_type": "stream",
     "text": [
      "python programming\n"
     ]
    }
   ],
   "source": [
    "##string methods\n",
    "name = \"PythoN programminG\"\n",
    "name.upper()\n",
    "print(name.lower())"
   ]
  },
  {
   "cell_type": "code",
   "execution_count": 8,
   "id": "dd84d46e",
   "metadata": {},
   "outputs": [
    {
     "name": "stdout",
     "output_type": "stream",
     "text": [
      "PythoN programminG\n",
      "PythoN programmin\n"
     ]
    }
   ],
   "source": [
    "##whitespace & character removal\n",
    "name = \"PythoN programminG\"\n",
    "# print(name.strip())\n",
    "# print(name.lstrip())\n",
    "# print(name.rstrip())\n",
    "print(name.removeprefix(\"G\"))\n",
    "print(name.removesuffix(\"G\"))"
   ]
  },
  {
   "cell_type": "code",
   "execution_count": 11,
   "id": "54655ba4",
   "metadata": {},
   "outputs": [
    {
     "name": "stdout",
     "output_type": "stream",
     "text": [
      "True\n"
     ]
    }
   ],
   "source": [
    "##validation / Boolean checks \n",
    "name = \"Python\"\n",
    "print(name.isalnum())"
   ]
  },
  {
   "cell_type": "code",
   "execution_count": 3,
   "id": "38f022ed",
   "metadata": {},
   "outputs": [
    {
     "name": "stdout",
     "output_type": "stream",
     "text": [
      "*******Python*******\n",
      "Python**************\n",
      "**************Python\n",
      "00000000000000Python\n"
     ]
    }
   ],
   "source": [
    "## alignment and padding\n",
    "name = \"Python\"\n",
    "print(name.center(20,\"*\"))\n",
    "print(name.ljust(20,\"*\"))\n",
    "print(name.rjust(20,\"*\")) \n",
    "print(name.zfill(20))"
   ]
  },
  {
   "cell_type": "code",
   "execution_count": null,
   "id": "a8ff0fdc",
   "metadata": {},
   "outputs": [
    {
     "name": "stdout",
     "output_type": "stream",
     "text": [
      "True\n"
     ]
    }
   ],
   "source": [
    "# print(\"helloworld\".isalnum())\n",
    "# print(\"123\".isalnum())\n",
    "# print(\"hello123\".isalnum())"
   ]
  },
  {
   "cell_type": "code",
   "execution_count": 11,
   "id": "59c75fcd",
   "metadata": {},
   "outputs": [
    {
     "data": {
      "text/plain": [
       "'python              prog'"
      ]
     },
     "execution_count": 11,
     "metadata": {},
     "output_type": "execute_result"
    }
   ],
   "source": [
    "##replace & modify \n",
    "name = \"python\\tprog\"\n",
    "name.replace(\"python\",\"java\")\n",
    "\n",
    "#expandtabs\n",
    "name = \"python\\tprog\"\n",
    "name.expandtabs(20)"
   ]
  },
  {
   "cell_type": "code",
   "execution_count": 18,
   "id": "434ba363",
   "metadata": {},
   "outputs": [
    {
     "data": {
      "text/plain": [
       "'a-b-c'"
      ]
     },
     "execution_count": 18,
     "metadata": {},
     "output_type": "execute_result"
    }
   ],
   "source": [
    "#splitting and joining\n",
    "\"a b c\".split() \n",
    "\"a b c\".split(\"a\") \n",
    "\"a-b-c\".split(\"-\") \n",
    "\n",
    "#splitlines \n",
    "# \"a\\nb\\nc\".splitlines()\n",
    "\n",
    "##partition\n",
    "\"a=b\".partition(\"z\")\n",
    "## divide 3 parts -- left , operator , right\n",
    "\n",
    "#join \n",
    "\"-\".join([\"a\",\"b\",\"c\"])"
   ]
  },
  {
   "cell_type": "code",
   "execution_count": 20,
   "id": "a55b73e3",
   "metadata": {},
   "outputs": [
    {
     "name": "stdout",
     "output_type": "stream",
     "text": [
      "my age is 10\n"
     ]
    }
   ],
   "source": [
    "##f-string//formatted string\n",
    "age = 10 \n",
    "# text =  \" my age is \" + age\n",
    "text = f\"my age is {age}\"\n",
    "print(text)"
   ]
  },
  {
   "cell_type": "code",
   "execution_count": null,
   "id": "c73155a8",
   "metadata": {},
   "outputs": [
    {
     "name": "stdout",
     "output_type": "stream",
     "text": [
      "my age is \"10\"\n"
     ]
    }
   ],
   "source": [
    "print(\"my age is \\\"10\\\"\")\n"
   ]
  },
  {
   "cell_type": "code",
   "execution_count": 3,
   "id": "40f48b4c",
   "metadata": {},
   "outputs": [
    {
     "data": {
      "text/plain": [
       "'my name is ace and my age is 10 '"
      ]
     },
     "execution_count": 3,
     "metadata": {},
     "output_type": "execute_result"
    }
   ],
   "source": [
    "##.format method \n",
    "\n",
    "\"my name is {} and my age is {} \".format(\"ace\",10)"
   ]
  },
  {
   "cell_type": "code",
   "execution_count": 7,
   "id": "9b149d00",
   "metadata": {},
   "outputs": [
    {
     "data": {
      "text/plain": [
       "'my name is ace1 and my age is 10'"
      ]
     },
     "execution_count": 7,
     "metadata": {},
     "output_type": "execute_result"
    }
   ],
   "source": [
    "# % formatting\n",
    "\"my name is %s\" % \"ace\" \n",
    "name = \"ace1\"\n",
    "\n",
    "age  = 10 \n",
    "\"my name is %s and my age is %s\" % (name,age)\n",
    "\n"
   ]
  },
  {
   "cell_type": "code",
   "execution_count": 9,
   "id": "ceb72f67",
   "metadata": {},
   "outputs": [
    {
     "data": {
      "text/plain": [
       "'w'"
      ]
     },
     "execution_count": 9,
     "metadata": {},
     "output_type": "execute_result"
    }
   ],
   "source": [
    "#indexing \n",
    "\n",
    "#indexing means accessing individual elements of a sequence(like \n",
    "#string , list , tuple) using their position number(index).\n",
    "# name = \"Hello\"\n",
    "# h e l l o \n",
    "# 0 1 2 3 4 \n",
    "# -5 -4 -3 -2 -1\n",
    "\n",
    "# how indexing works ?\n",
    "#python uses zero-based indexing--> the first element has an index of 0\n",
    "#python uses negative indexing --> the last element has an index of -1, \n",
    "#and the second last element has an index of -2 and so on.`\n",
    "\n",
    "name =  \"hello world\"\n",
    "name[6]\n",
    "name[-5]"
   ]
  },
  {
   "cell_type": "code",
   "execution_count": null,
   "id": "4656c252",
   "metadata": {},
   "outputs": [
    {
     "data": {
      "text/plain": [
       "'hlowrd'"
      ]
     },
     "execution_count": 19,
     "metadata": {},
     "output_type": "execute_result"
    }
   ],
   "source": [
    "##slicing -- accessing multiple elements of a sequence at a time\n",
    "name = \"hello world\"\n",
    "#[start:end:step/skip]\n",
    "name[0:5]\n",
    "name[-11:-6]\n",
    "name[:]\n",
    "name[::2]\n",
    "name[::-1] #---> reverse"
   ]
  },
  {
   "cell_type": "code",
   "execution_count": null,
   "id": "79330106",
   "metadata": {},
   "outputs": [
    {
     "data": {
      "text/plain": [
       "0"
      ]
     },
     "execution_count": 23,
     "metadata": {},
     "output_type": "execute_result"
    }
   ],
   "source": [
    "name = \"whello world\"\n",
    "# name.count(\"w\")\n",
    "# name.find(\"w\")\n",
    "# name.index(\"w\")\n"
   ]
  },
  {
   "cell_type": "code",
   "execution_count": 24,
   "id": "f0c5b215",
   "metadata": {},
   "outputs": [
    {
     "data": {
      "text/plain": [
       "True"
      ]
     },
     "execution_count": 24,
     "metadata": {},
     "output_type": "execute_result"
    }
   ],
   "source": [
    "# check for palindrome \n",
    "#q check if \"madam\" is a palindrome(same forward and backward)\n",
    "\n",
    "name = \"madam\"\n",
    "name[::-1] == name"
   ]
  },
  {
   "cell_type": "code",
   "execution_count": 28,
   "id": "2fc1e86f",
   "metadata": {},
   "outputs": [
    {
     "name": "stdout",
     "output_type": "stream",
     "text": [
      "python\n"
     ]
    }
   ],
   "source": [
    "##length\n",
    "name = \"hello world\"\n",
    "len(name)\n",
    "#find the longest word in \"python is amazing programming language\"\n",
    "s = \"python is amazing programming language\"\n",
    "words = s.split()\n",
    "# print(max(words,key=len))\n",
    "print(max(words))"
   ]
  },
  {
   "cell_type": "code",
   "execution_count": null,
   "id": "715d9849",
   "metadata": {},
   "outputs": [],
   "source": []
  }
 ],
 "metadata": {
  "kernelspec": {
   "display_name": "Python 3",
   "language": "python",
   "name": "python3"
  },
  "language_info": {
   "codemirror_mode": {
    "name": "ipython",
    "version": 3
   },
   "file_extension": ".py",
   "mimetype": "text/x-python",
   "name": "python",
   "nbconvert_exporter": "python",
   "pygments_lexer": "ipython3",
   "version": "3.11.9"
  }
 },
 "nbformat": 4,
 "nbformat_minor": 5
}
