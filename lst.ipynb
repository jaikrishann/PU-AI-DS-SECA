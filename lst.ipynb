{
 "cells": [
  {
   "cell_type": "markdown",
   "id": "9e64183e",
   "metadata": {},
   "source": [
    "# List "
   ]
  },
  {
   "cell_type": "markdown",
   "id": "8ccccbac",
   "metadata": {},
   "source": [
    "#### What is a List in Python?\n",
    "- A list is built-in data structure in python used to store a collection of items.\n",
    "- List can hold elements of diff data types(e.g., integers , strings , floats, even other lists )\n",
    "- list are denoted by [] (square )\n"
   ]
  },
  {
   "cell_type": "markdown",
   "id": "e673cf45",
   "metadata": {},
   "source": [
    "#### features of list?\n",
    "- mutuable \n",
    "- ordered \n",
    "- allow duplicate values\n",
    "- indexing and slicing is supported "
   ]
  },
  {
   "cell_type": "code",
   "execution_count": 1,
   "id": "7f35baca",
   "metadata": {},
   "outputs": [
    {
     "name": "stdout",
     "output_type": "stream",
     "text": [
      "[1, 2, 2.34, 'hello', True, 1, 2]\n",
      "<class 'list'>\n"
     ]
    }
   ],
   "source": [
    "lst = [1,2,2.34,\"hello\",True,1,2]\n",
    "print(lst)\n",
    "print(type(lst))"
   ]
  },
  {
   "cell_type": "code",
   "execution_count": 2,
   "id": "2476120a",
   "metadata": {},
   "outputs": [
    {
     "name": "stdout",
     "output_type": "stream",
     "text": [
      "green\n",
      "green\n",
      "['red', 'black', 'green']\n",
      "['black', 'green', 'blue']\n"
     ]
    }
   ],
   "source": [
    "#indexing and slicing \n",
    "lst = [\"red\",\"black\",\"green\",\"blue\"]\n",
    "print(lst[2])\n",
    "print(lst[-2])\n",
    "#[start: end : skip]\n",
    "print(lst[0:3])\n",
    "print(lst[-3:])\n"
   ]
  },
  {
   "cell_type": "code",
   "execution_count": 3,
   "id": "8cecfd49",
   "metadata": {},
   "outputs": [
    {
     "name": "stdout",
     "output_type": "stream",
     "text": [
      "['red', 'black', 'white', 'blue']\n"
     ]
    }
   ],
   "source": [
    "#indexing \n",
    "lst = [\"red\",\"black\",\"green\",\"blue\"]\n",
    "lst[2] = \"white\"\n",
    "print(lst)"
   ]
  },
  {
   "cell_type": "code",
   "execution_count": 4,
   "id": "e7a686e0",
   "metadata": {},
   "outputs": [
    {
     "name": "stdout",
     "output_type": "stream",
     "text": [
      "['red', 'white', 'blue']\n"
     ]
    }
   ],
   "source": [
    "#slicing\n",
    "lst = [\"red\",\"black\",\"green\",\"blue\"]\n",
    "# case 1\n",
    "# lst[1:3] = [\"white\",\"purple\"]\n",
    "# case 2 \n",
    "# lst[1:2] = [\"white\",\"purple\"]\n",
    "# case 3\n",
    "lst[1:3] = [\"white\"]\n",
    "print(lst)"
   ]
  },
  {
   "cell_type": "code",
   "execution_count": 5,
   "id": "d493b9c6",
   "metadata": {},
   "outputs": [
    {
     "name": "stdout",
     "output_type": "stream",
     "text": [
      "[10, 20, [30, 40, [500, 60], 70, 80], 90, 100]\n"
     ]
    }
   ],
   "source": [
    "#nested list \n",
    "lst = [10,20,[30,40,[50,60],70,80],90,100]\n",
    "lst[2][2][0] = 500\n",
    "print(lst)"
   ]
  },
  {
   "cell_type": "code",
   "execution_count": null,
   "id": "e0c2e73c",
   "metadata": {},
   "outputs": [
    {
     "name": "stdout",
     "output_type": "stream",
     "text": [
      "['black', 'green', 'blue', 'red']\n"
     ]
    }
   ],
   "source": [
    "# print(lst.count(\"red\"))\n",
    "# print(lst.index(\"red\"))\n",
    "# lst2 = lst.copy()\n",
    "# lst.sort() #default ascending order\n",
    "# lst.sort(reverse = True) #descending order\n",
    "# lst.reverse()\n",
    "# lst[::-1]\n",
    "# lst.clear() #clear vs del\n",
    "# del lst\n",
    "lst = [\"red\",\"black\",\"green\",\"blue\",\"red\"]\n",
    "# lst.append(\"white\")\n",
    "# lst.extend([\"yellow\",\"orange\"])\n",
    "# lst.insert(2,\"purple\")\n",
    "# lst.remove(\"red\")\n",
    "# lst.pop()\n",
    "# lst.pop(2)\n",
    "\n",
    "print(lst)"
   ]
  },
  {
   "cell_type": "code",
   "execution_count": 17,
   "id": "b6ce699c",
   "metadata": {},
   "outputs": [
    {
     "name": "stdout",
     "output_type": "stream",
     "text": [
      "<class 'int'>\n",
      "<class 'float'>\n",
      "10.0\n"
     ]
    }
   ],
   "source": [
    "##type casting\n",
    "a = 10 \n",
    "print(type(a))\n",
    "b = float(a)\n",
    "print(type(b))\n",
    "print(b)"
   ]
  },
  {
   "cell_type": "code",
   "execution_count": 21,
   "id": "d92922e8",
   "metadata": {},
   "outputs": [
    {
     "name": "stdout",
     "output_type": "stream",
     "text": [
      "2345678\n",
      "<class 'int'>\n"
     ]
    }
   ],
   "source": [
    "#user input \n",
    "name = int(input(\"enter your name\"))\n",
    "print(name)\n",
    "print(type(name))"
   ]
  },
  {
   "cell_type": "code",
   "execution_count": null,
   "id": "dc418d2c",
   "metadata": {},
   "outputs": [
    {
     "name": "stdout",
     "output_type": "stream",
     "text": [
      "Hello \n"
     ]
    },
    {
     "ename": "ValueError",
     "evalue": "invalid literal for int() with base 10: ''",
     "output_type": "error",
     "traceback": [
      "\u001b[31m---------------------------------------------------------------------------\u001b[39m",
      "\u001b[31mValueError\u001b[39m                                Traceback (most recent call last)",
      "\u001b[36mCell\u001b[39m\u001b[36m \u001b[39m\u001b[32mIn[22]\u001b[39m\u001b[32m, line 11\u001b[39m\n\u001b[32m      8\u001b[39m \u001b[38;5;28mprint\u001b[39m(\u001b[33m\"\u001b[39m\u001b[33mHello\u001b[39m\u001b[33m\"\u001b[39m,name)\n\u001b[32m     10\u001b[39m \u001b[38;5;66;03m#prog 2--> programm with int variable\u001b[39;00m\n\u001b[32m---> \u001b[39m\u001b[32m11\u001b[39m age = \u001b[38;5;28;43mint\u001b[39;49m\u001b[43m(\u001b[49m\u001b[38;5;28;43minput\u001b[39;49m\u001b[43m(\u001b[49m\u001b[33;43m\"\u001b[39;49m\u001b[33;43menter your age\u001b[39;49m\u001b[33;43m\"\u001b[39;49m\u001b[43m)\u001b[49m\u001b[43m)\u001b[49m\n\u001b[32m     13\u001b[39m \u001b[38;5;28mprint\u001b[39m(\u001b[33m\"\u001b[39m\u001b[33myour age is\u001b[39m\u001b[33m\"\u001b[39m,age)\n\u001b[32m     15\u001b[39m \u001b[38;5;66;03m#prog 3--> programm with float variable\u001b[39;00m\n",
      "\u001b[31mValueError\u001b[39m: invalid literal for int() with base 10: ''"
     ]
    }
   ],
   "source": [
    "#write simple programms using input , output and variable type \n",
    "# in python\n",
    "# \n",
    "\n",
    "# programm 1 -- > programm with string variable\n",
    "name = input(\"enter your name\")\n",
    "\n",
    "print(\"Hello\",name)\n",
    "\n",
    "#prog 2--> programm with int variable\n",
    "age = int(input(\"enter your age\"))\n",
    "\n",
    "print(\"your age is\",age)\n",
    "\n",
    "#prog 3--> programm with float variable\n",
    "height = float(input(\"enter your height\"))\n",
    "\n",
    "print(\"your height is\",height)\n",
    "\n",
    "#prog4 --> programm with boolean variable\n",
    "answer = input(\"Do you like python? (yes/no)\")\n",
    "\n",
    "likes_python = (answer.lower()==\"yes\")\n",
    "print(\"likes python\",likes_python)\n",
    "\n",
    "#prog 5 --> prog with multiple variables \n",
    "num1 = int(input(\"enter first number\"))\n",
    "num2 = int(input(\"enter second number\"))\n",
    "sum = num1 + num2\n",
    "print(\"the sum is\",sum)\n",
    "\n",
    "#perform arithmetic operations , string manipulations and type casting\n",
    "\n",
    "#in string manipulation you have to do some ex of indexing and slicing ,\n",
    "# upper and lower , split and join "
   ]
  },
  {
   "cell_type": "code",
   "execution_count": null,
   "id": "8c945261",
   "metadata": {},
   "outputs": [],
   "source": [
    "#exp 2 -->perform arithmetic operations ,\n",
    "#  string manipulations and type casting \n",
    "\n",
    "##  in string manipulation you have to do some examples of \n",
    "#indexing and slicing , \n",
    "# concatenation and repetition , upper and lower , split and join \n"
   ]
  },
  {
   "cell_type": "code",
   "execution_count": null,
   "id": "2b11b357",
   "metadata": {},
   "outputs": [],
   "source": []
  },
  {
   "cell_type": "code",
   "execution_count": null,
   "id": "26aa5cb4",
   "metadata": {},
   "outputs": [],
   "source": []
  }
 ],
 "metadata": {
  "kernelspec": {
   "display_name": "Python 3",
   "language": "python",
   "name": "python3"
  },
  "language_info": {
   "codemirror_mode": {
    "name": "ipython",
    "version": 3
   },
   "file_extension": ".py",
   "mimetype": "text/x-python",
   "name": "python",
   "nbconvert_exporter": "python",
   "pygments_lexer": "ipython3",
   "version": "3.11.9"
  }
 },
 "nbformat": 4,
 "nbformat_minor": 5
}
