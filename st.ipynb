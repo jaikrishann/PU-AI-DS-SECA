{
 "cells": [
  {
   "cell_type": "markdown",
   "id": "d159e13a",
   "metadata": {},
   "source": [
    "# SET"
   ]
  },
  {
   "cell_type": "code",
   "execution_count": null,
   "id": "8c6a73e3",
   "metadata": {},
   "outputs": [],
   "source": [
    "#or set() constructor\n",
    "#mutuable -- list , dict , set \n",
    "#immutable -- int , float , string , tuple "
   ]
  },
  {
   "cell_type": "code",
   "execution_count": 2,
   "id": "266682cb",
   "metadata": {},
   "outputs": [
    {
     "name": "stdout",
     "output_type": "stream",
     "text": [
      "{True, 2, 'hello', 22.34}\n",
      "<class 'set'>\n"
     ]
    }
   ],
   "source": [
    "st = {2,\"hello\",True,1,2,22.34}\n",
    "print(st)\n",
    "print(type(st))"
   ]
  },
  {
   "cell_type": "code",
   "execution_count": 3,
   "id": "3ec30334",
   "metadata": {},
   "outputs": [
    {
     "name": "stdout",
     "output_type": "stream",
     "text": [
      "{1, 2, 3, 4, 5}\n"
     ]
    }
   ],
   "source": [
    "s = {1,2,3,4,5}\n",
    "print(s)\n",
    "# print(type(s))"
   ]
  },
  {
   "cell_type": "code",
   "execution_count": 4,
   "id": "fd82ee4b",
   "metadata": {},
   "outputs": [
    {
     "name": "stdout",
     "output_type": "stream",
     "text": [
      "{1, 2, 3, 4}\n"
     ]
    }
   ],
   "source": [
    "#set methods \n",
    "\n",
    "## add --> adds an element to the set \n",
    "s = {1,2,3}\n",
    "s.add(4)\n",
    "print(s)"
   ]
  },
  {
   "cell_type": "code",
   "execution_count": 5,
   "id": "21f7ab5d",
   "metadata": {},
   "outputs": [
    {
     "name": "stdout",
     "output_type": "stream",
     "text": [
      "{1, 2, 3, 4, 5, 6, 7, 8, 9}\n"
     ]
    }
   ],
   "source": [
    "#update --> adds multiple elements to the set(\n",
    "#from list , tuple , set)\n",
    "\n",
    "s = {1,2,3}\n",
    "s.update([4,5,6],{7,8,9})\n",
    "print(s)"
   ]
  },
  {
   "cell_type": "code",
   "execution_count": 6,
   "id": "e72990c9",
   "metadata": {},
   "outputs": [
    {
     "ename": "KeyError",
     "evalue": "4",
     "output_type": "error",
     "traceback": [
      "\u001b[31m---------------------------------------------------------------------------\u001b[39m",
      "\u001b[31mKeyError\u001b[39m                                  Traceback (most recent call last)",
      "\u001b[36mCell\u001b[39m\u001b[36m \u001b[39m\u001b[32mIn[6]\u001b[39m\u001b[32m, line 4\u001b[39m\n\u001b[32m      1\u001b[39m \u001b[38;5;66;03m#remove --> removes an element from the set\u001b[39;00m\n\u001b[32m      2\u001b[39m \u001b[38;5;66;03m# Raise KeyError if the element is not in the set\u001b[39;00m\n\u001b[32m      3\u001b[39m s = {\u001b[32m1\u001b[39m,\u001b[32m2\u001b[39m,\u001b[32m3\u001b[39m}\n\u001b[32m----> \u001b[39m\u001b[32m4\u001b[39m \u001b[43ms\u001b[49m\u001b[43m.\u001b[49m\u001b[43mremove\u001b[49m\u001b[43m(\u001b[49m\u001b[32;43m4\u001b[39;49m\u001b[43m)\u001b[49m\n\u001b[32m      5\u001b[39m \u001b[38;5;28mprint\u001b[39m(s)\n",
      "\u001b[31mKeyError\u001b[39m: 4"
     ]
    }
   ],
   "source": [
    "#remove --> removes an element from the set\n",
    "# Raise KeyError if the element is not in the set\n",
    "s = {1,2,3}\n",
    "s.remove(4)\n",
    "print(s)"
   ]
  },
  {
   "cell_type": "code",
   "execution_count": 7,
   "id": "41e7dcf1",
   "metadata": {},
   "outputs": [
    {
     "name": "stdout",
     "output_type": "stream",
     "text": [
      "{1, 2, 3}\n"
     ]
    }
   ],
   "source": [
    "#discard \n",
    "# removes an element if present \n",
    "# does not raise an error if the element is not present\n",
    "s = {1,2,3}\n",
    "s.discard(4)\n",
    "print(s)"
   ]
  },
  {
   "cell_type": "code",
   "execution_count": 8,
   "id": "6773ba32",
   "metadata": {},
   "outputs": [
    {
     "name": "stdout",
     "output_type": "stream",
     "text": [
      "{2, 3}\n"
     ]
    }
   ],
   "source": [
    "# pop \n",
    "#removes and returns a random element \n",
    "s = {1,2,3}\n",
    "s.pop()\n",
    "print(s)"
   ]
  },
  {
   "cell_type": "code",
   "execution_count": 9,
   "id": "c933ccea",
   "metadata": {},
   "outputs": [
    {
     "name": "stdout",
     "output_type": "stream",
     "text": [
      "set()\n"
     ]
    }
   ],
   "source": [
    "#clear \n",
    "#removes all elements from the set\n",
    "s = {1,2,3}\n",
    "s.clear()\n",
    "print(s)"
   ]
  },
  {
   "cell_type": "code",
   "execution_count": 10,
   "id": "01d9ec1d",
   "metadata": {},
   "outputs": [
    {
     "name": "stdout",
     "output_type": "stream",
     "text": [
      "{1, 2, 3}\n"
     ]
    }
   ],
   "source": [
    "# copy -->\n",
    "#returns a shallow copy of the set \n",
    "s = {1,2,3}\n",
    "s1 = s.copy()\n",
    "print(s1)\n"
   ]
  },
  {
   "cell_type": "code",
   "execution_count": null,
   "id": "161a797b",
   "metadata": {},
   "outputs": [
    {
     "name": "stdout",
     "output_type": "stream",
     "text": [
      "{1, 2, 3, 4, 5}\n",
      "{1, 2, 3, 4, 5}\n"
     ]
    }
   ],
   "source": [
    "#set operations \n",
    "#python sets supports mathematical set operations \n",
    "\n",
    "#union / |\n",
    "# combines all unique elements from both sets\n",
    "a = {1,2,3}\n",
    "b = {3,4,5}\n",
    "print(a.union(b))\n",
    "print( a | b)"
   ]
  },
  {
   "cell_type": "code",
   "execution_count": 12,
   "id": "a2c85fc7",
   "metadata": {},
   "outputs": [
    {
     "name": "stdout",
     "output_type": "stream",
     "text": [
      "{3}\n",
      "{3}\n"
     ]
    }
   ],
   "source": [
    "# intersection // & \n",
    "## returns common element \n",
    "a = {1,2,3}\n",
    "b = {3,4,5}\n",
    "print(a.intersection(b))\n",
    "print( a & b)"
   ]
  },
  {
   "cell_type": "code",
   "execution_count": 13,
   "id": "6381c9ea",
   "metadata": {},
   "outputs": [
    {
     "name": "stdout",
     "output_type": "stream",
     "text": [
      "{1, 2}\n",
      "{1, 2}\n"
     ]
    }
   ],
   "source": [
    "#difference // - \n",
    "# returns elements present in one set but not in the other \n",
    "a = {1,2,3}\n",
    "b = {3,4,5}\n",
    "print(a.difference(b))\n",
    "print( a - b)"
   ]
  },
  {
   "cell_type": "code",
   "execution_count": null,
   "id": "4225157e",
   "metadata": {},
   "outputs": [
    {
     "name": "stdout",
     "output_type": "stream",
     "text": [
      "{1, 2, 4, 5}\n",
      "{1, 2, 4, 5}\n"
     ]
    }
   ],
   "source": [
    "#symmetric difference // ^ \n",
    "# returns elements present in one set or the\n",
    "#  other but not in both \n",
    "a = {1,2,3}\n",
    "b = {3,4,5}\n",
    "print(a.symmetric_difference(b))\n",
    "print( a ^ b)"
   ]
  },
  {
   "cell_type": "code",
   "execution_count": 5,
   "id": "686ca01f",
   "metadata": {},
   "outputs": [
    {
     "name": "stdout",
     "output_type": "stream",
     "text": [
      "True\n"
     ]
    }
   ],
   "source": [
    "#issubset\n",
    "#checks if all elements of one set \n",
    "# are in another \n",
    "a = {1,2}\n",
    "b = {1,2,3,4}\n",
    "print(a.issubset(b))\n"
   ]
  },
  {
   "cell_type": "code",
   "execution_count": 9,
   "id": "a919e135",
   "metadata": {},
   "outputs": [
    {
     "name": "stdout",
     "output_type": "stream",
     "text": [
      "True\n"
     ]
    }
   ],
   "source": [
    "#isuperset \n",
    "# checks if a set contains all elements of another \n",
    "a = {1,2,3,4}\n",
    "b = {1,2}\n",
    "print(a.issuperset(b))"
   ]
  },
  {
   "cell_type": "code",
   "execution_count": null,
   "id": "89c02147",
   "metadata": {},
   "outputs": [
    {
     "name": "stdout",
     "output_type": "stream",
     "text": [
      "True\n"
     ]
    }
   ],
   "source": [
    "#isdijoint\n",
    "# checks if two sets have no common elements \n",
    "a = {1,2}\n",
    "b = {3,4}\n",
    "a.\n",
    "print(a.isdisjoint(b))"
   ]
  },
  {
   "cell_type": "code",
   "execution_count": 14,
   "id": "59020534",
   "metadata": {},
   "outputs": [
    {
     "name": "stdout",
     "output_type": "stream",
     "text": [
      "{3}\n",
      "{3, 4, 5}\n"
     ]
    }
   ],
   "source": [
    "#intersection update \n",
    "#updates the set with common elements of other set \n",
    "a = {1,2,3}\n",
    "b = {3,4,5}\n",
    "a.intersection_update(b)\n",
    "print(a)\n",
    "print(b)"
   ]
  },
  {
   "cell_type": "code",
   "execution_count": 15,
   "id": "1400a941",
   "metadata": {},
   "outputs": [
    {
     "name": "stdout",
     "output_type": "stream",
     "text": [
      "{1, 2, 4, 5}\n",
      "{3, 4, 5}\n"
     ]
    }
   ],
   "source": [
    "#symmetric difference update \n",
    "#updates the set with elements present in one set or the\n",
    "#  other but not in both \n",
    "a = {1,2,3}\n",
    "b = {3,4,5}\n",
    "a.symmetric_difference_update(b)\n",
    "print(a)\n",
    "print(b)"
   ]
  },
  {
   "cell_type": "code",
   "execution_count": null,
   "id": "213b8f78",
   "metadata": {},
   "outputs": [],
   "source": []
  },
  {
   "cell_type": "code",
   "execution_count": null,
   "id": "6c5517de",
   "metadata": {},
   "outputs": [],
   "source": [
    "#frozen set \n",
    "# it is an immutable version of a set.\n",
    "#like set \n",
    "#unique values \n",
    "# unordered \n",
    "# math operations support \n",
    "\n",
    "#unlike set :\n",
    "# immutable \n",
    "#it is hasable --> you can use frozen set as keys while making dict "
   ]
  },
  {
   "cell_type": "code",
   "execution_count": null,
   "id": "2843edc1",
   "metadata": {},
   "outputs": [],
   "source": []
  },
  {
   "cell_type": "code",
   "execution_count": null,
   "id": "3bf99058",
   "metadata": {},
   "outputs": [],
   "source": []
  },
  {
   "cell_type": "code",
   "execution_count": null,
   "id": "339920df",
   "metadata": {},
   "outputs": [],
   "source": []
  },
  {
   "cell_type": "code",
   "execution_count": null,
   "id": "fcd5c284",
   "metadata": {},
   "outputs": [],
   "source": []
  }
 ],
 "metadata": {
  "kernelspec": {
   "display_name": "Python 3",
   "language": "python",
   "name": "python3"
  },
  "language_info": {
   "codemirror_mode": {
    "name": "ipython",
    "version": 3
   },
   "file_extension": ".py",
   "mimetype": "text/x-python",
   "name": "python",
   "nbconvert_exporter": "python",
   "pygments_lexer": "ipython3",
   "version": "3.11.9"
  }
 },
 "nbformat": 4,
 "nbformat_minor": 5
}
