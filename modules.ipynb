{
 "cells": [
  {
   "cell_type": "code",
   "execution_count": null,
   "id": "224437fa",
   "metadata": {},
   "outputs": [],
   "source": [
    "#modules vs packages vs lib \n",
    "\n",
    "#modules --> simple python file .py \n",
    "# modules can have functions , classes , variables\n",
    "\n",
    "#packages --> is a collection of modules and it is a folder\n",
    "\n",
    "#lib --> is a collection of packages and modules "
   ]
  },
  {
   "cell_type": "code",
   "execution_count": null,
   "id": "5c02f5ac",
   "metadata": {},
   "outputs": [],
   "source": [
    "##3 types of modules \n",
    "\n",
    "#1 - built-in modules --> pre-installed --> math , random ,\n",
    "#sys , datetime, OS\n",
    "#2 - third-party modules--> installed using pip-->numpy ,\n",
    "#  pandas\n",
    "#3 - user-defined modules --> created by the developer"
   ]
  },
  {
   "cell_type": "code",
   "execution_count": null,
   "metadata": {},
   "outputs": [],
   "source": [
    "#userdefine modules \n",
    "#1 - create a file with .py extension\n",
    "#2 - write the code in that file\n",
    "#3 - save the file\n",
    "#__init__.py make this file in a package\n",
    "#4 - import the file in another python file\n",
    "# To import a module, use the import statement.\n",
    "# The import statement imports a module named \"module1\".\n",
    "# import module1\n"
   ]
  },
  {
   "cell_type": "code",
   "execution_count": 4,
   "id": "67101c57",
   "metadata": {},
   "outputs": [],
   "source": [
    "##import statement\n",
    "import intro #when you have import complete file\n",
    "# from intro import add_from_intro_file \n",
    "#when you have import specific function "
   ]
  },
  {
   "cell_type": "code",
   "execution_count": null,
   "id": "6b677052",
   "metadata": {},
   "outputs": [
    {
     "data": {
      "text/plain": [
       "1200"
      ]
     },
     "execution_count": 3,
     "metadata": {},
     "output_type": "execute_result"
    }
   ],
   "source": [
    "# add_from_intro_file(1000,200)"
   ]
  },
  {
   "cell_type": "code",
   "execution_count": 5,
   "id": "79483e4a",
   "metadata": {},
   "outputs": [
    {
     "data": {
      "text/plain": [
       "1200"
      ]
     },
     "execution_count": 5,
     "metadata": {},
     "output_type": "execute_result"
    }
   ],
   "source": [
    "add_from_intro_file(1000,200)"
   ]
  },
  {
   "cell_type": "code",
   "execution_count": 7,
   "id": "cd1a2f8a",
   "metadata": {},
   "outputs": [
    {
     "name": "stdout",
     "output_type": "stream",
     "text": [
      "hello world\n"
     ]
    }
   ],
   "source": [
    "intro.greet()"
   ]
  },
  {
   "cell_type": "code",
   "execution_count": 1,
   "id": "d0fdc068",
   "metadata": {},
   "outputs": [],
   "source": [
    "import demomodule"
   ]
  },
  {
   "cell_type": "code",
   "execution_count": 3,
   "id": "3d667da5",
   "metadata": {},
   "outputs": [
    {
     "name": "stdout",
     "output_type": "stream",
     "text": [
      "hello world\n"
     ]
    }
   ],
   "source": [
    "demomodule.add_from_demomodule(1000,200)\n",
    "demomodule.greet()"
   ]
  },
  {
   "cell_type": "code",
   "execution_count": null,
   "id": "35af1120",
   "metadata": {},
   "outputs": [],
   "source": [
    "#built in modules --> pre installed modules \n",
    "#math , random , datetime , os , json \n",
    "\n",
    "import math"
   ]
  },
  {
   "cell_type": "code",
   "execution_count": 11,
   "id": "0cd00962",
   "metadata": {},
   "outputs": [
    {
     "data": {
      "text/plain": [
       "3.1622776601683795"
      ]
     },
     "execution_count": 11,
     "metadata": {},
     "output_type": "execute_result"
    }
   ],
   "source": [
    "math.floor(10.9)\n",
    "math.ceil(10.1)\n",
    "math.factorial(5)\n",
    "math.trunc(10.999)\n",
    "math.fabs(-10) #absolute value\n",
    "math.sqrt(10)"
   ]
  },
  {
   "cell_type": "code",
   "execution_count": null,
   "id": "22290139",
   "metadata": {},
   "outputs": [],
   "source": [
    "#pow and log \n",
    "math.pow(2,3)\n",
    "math.log(10)\n",
    "math.log10(10)\n",
    "math.log2(10)"
   ]
  },
  {
   "cell_type": "code",
   "execution_count": 12,
   "id": "e7f6fc14",
   "metadata": {},
   "outputs": [
    {
     "data": {
      "text/plain": [
       "nan"
      ]
     },
     "execution_count": 12,
     "metadata": {},
     "output_type": "execute_result"
    }
   ],
   "source": [
    "#constants \n",
    "math.pi \n",
    "math.e\n",
    "math.inf\n",
    "math.nan"
   ]
  },
  {
   "cell_type": "code",
   "execution_count": 14,
   "id": "017f01c3",
   "metadata": {},
   "outputs": [
    {
     "data": {
      "text/plain": [
       "20"
      ]
     },
     "execution_count": 14,
     "metadata": {},
     "output_type": "execute_result"
    }
   ],
   "source": [
    "math.gcd(10,20)\n",
    "math.lcm(10,20)\n",
    "math.comb(5,2)\n",
    "math.perm(5,2)"
   ]
  },
  {
   "cell_type": "code",
   "execution_count": null,
   "id": "f4820a39",
   "metadata": {},
   "outputs": [],
   "source": [
    "#trigno functions \n",
    "math.sin(30)\n",
    "math.cos(30)\n",
    "math.tan(30)\n",
    "math.sinh(30)\n",
    "math.cosh(30)\n",
    "math.tanh(30)\n"
   ]
  },
  {
   "cell_type": "code",
   "execution_count": 15,
   "id": "113c9ca5",
   "metadata": {},
   "outputs": [],
   "source": [
    "#random module --> random number generator\n",
    "\n",
    "import random "
   ]
  },
  {
   "cell_type": "code",
   "execution_count": null,
   "id": "d95c34dd",
   "metadata": {},
   "outputs": [
    {
     "data": {
      "text/plain": [
       "1"
      ]
     },
     "execution_count": 20,
     "metadata": {},
     "output_type": "execute_result"
    }
   ],
   "source": [
    "random.random()\n",
    "#float random gen between 0.0 and 1.0\n",
    "random.randint(1,10)\n",
    "#integer random gen between 1 and 10\n",
    "random.uniform(1,10)\n",
    "#float random gen between 1 and 10\n",
    "random.randrange(1,10,2)\n",
    "#integer random gen between 1 and 10 and skip by 2"
   ]
  },
  {
   "cell_type": "code",
   "execution_count": null,
   "id": "a35b99b2",
   "metadata": {},
   "outputs": [
    {
     "data": {
      "text/plain": [
       "['GREEN', 'BLUE', 'RED']"
      ]
     },
     "execution_count": 33,
     "metadata": {},
     "output_type": "execute_result"
    }
   ],
   "source": [
    "#working with seq(list , tuple , str)\n",
    "random.choice([1,2,3,4,5]) \n",
    "#it will return a random element from the list\n",
    "random.choice(\"hello\")\n",
    "#it will return a random character from the string\n",
    "random.choices([1,2,3,4,5],k=10)\n",
    "#it will return a list of 2 random elements from the list\n",
    "#with replacement\n",
    "random.sample([1,2,3,4,5],k=2)\n",
    "#without replacement\n",
    "a = [\"RED\",\"GREEN\",\"BLUE\"]\n",
    "random.shuffle(a)\n",
    "a\n",
    "\n"
   ]
  },
  {
   "cell_type": "code",
   "execution_count": null,
   "id": "4e60e2e6",
   "metadata": {},
   "outputs": [],
   "source": []
  }
 ],
 "metadata": {
  "kernelspec": {
   "display_name": "Python 3",
   "language": "python",
   "name": "python3"
  },
  "language_info": {
   "codemirror_mode": {
    "name": "ipython",
    "version": 3
   },
   "file_extension": ".py",
   "mimetype": "text/x-python",
   "name": "python",
   "nbconvert_exporter": "python",
   "pygments_lexer": "ipython3",
   "version": "3.11.9"
  }
 },
 "nbformat": 4,
 "nbformat_minor": 5
}
