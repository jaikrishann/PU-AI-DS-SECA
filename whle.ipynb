{
 "cells": [
  {
   "cell_type": "code",
   "execution_count": null,
   "id": "0fcabe73",
   "metadata": {},
   "outputs": [],
   "source": [
    "#while loop \n",
    "# a loop that executes a block of code repeatedly as long as \n",
    "# a condition is true \n",
    "# it is called an entry controlled loop(condition checked \n",
    "# before execution)"
   ]
  },
  {
   "cell_type": "code",
   "execution_count": 3,
   "id": "cfed9ede",
   "metadata": {},
   "outputs": [
    {
     "name": "stdout",
     "output_type": "stream",
     "text": [
      "10\n",
      "9\n",
      "8\n",
      "7\n",
      "6\n",
      "5\n",
      "4\n",
      "3\n",
      "2\n",
      "1\n",
      "0\n"
     ]
    }
   ],
   "source": [
    "i = 10  #starting point\n",
    "while i >=0 :\n",
    "    print(i)\n",
    "    i-=1 #increment "
   ]
  },
  {
   "cell_type": "code",
   "execution_count": null,
   "id": "10474cf4",
   "metadata": {},
   "outputs": [
    {
     "name": "stdout",
     "output_type": "stream",
     "text": [
      "1\n",
      "2\n",
      "3\n",
      "4\n",
      "6\n",
      "7\n",
      "8\n",
      "9\n",
      "10\n"
     ]
    }
   ],
   "source": [
    "#break , continue , pass\n",
    "# i = 0 \n",
    "# while i <10:\n",
    "#     if i==5:\n",
    "#         break\n",
    "#     print(i)\n",
    "#     i+=1\n",
    "\n",
    "#continue \n",
    "i = 0 \n",
    "while i <10:\n",
    "    i+=1\n",
    "    if i==5:\n",
    "        continue\n",
    "    print(i)\n",
    "\n",
    "# print the multiplication table of 5 using while loop \n",
    "#5 x 1 = 5\n",
    "    "
   ]
  },
  {
   "cell_type": "code",
   "execution_count": null,
   "id": "3f82922b",
   "metadata": {},
   "outputs": [],
   "source": [
    "#a - explain the concept of list comph in python \n",
    "# describe its syntax  an compare it with using a tradidtional for loop for creating list \n",
    "\n",
    "# b - write a python programm that continuously accepts integers from the user \n",
    "# until the user enters \"stop\"\n",
    "\n",
    "# use a while loop to take inputs \n",
    "# store all enetred numbers in a list \n",
    "# using a list comph create:\n",
    "    #1 a list of sq of even number \n",
    "    #2 a list of cubes of odd numbers \n",
    "    #finally print both list \n"
   ]
  },
  {
   "cell_type": "code",
   "execution_count": null,
   "id": "32b62f7b",
   "metadata": {},
   "outputs": [],
   "source": []
  },
  {
   "cell_type": "code",
   "execution_count": null,
   "id": "d88ab826",
   "metadata": {},
   "outputs": [],
   "source": []
  },
  {
   "cell_type": "code",
   "execution_count": null,
   "id": "a34345dd",
   "metadata": {},
   "outputs": [],
   "source": []
  },
  {
   "cell_type": "code",
   "execution_count": null,
   "id": "b8192322",
   "metadata": {},
   "outputs": [],
   "source": []
  },
  {
   "cell_type": "code",
   "execution_count": null,
   "id": "7863d959",
   "metadata": {},
   "outputs": [],
   "source": []
  },
  {
   "cell_type": "code",
   "execution_count": null,
   "id": "ff13bac8",
   "metadata": {},
   "outputs": [],
   "source": []
  },
  {
   "cell_type": "code",
   "execution_count": null,
   "id": "0d068665",
   "metadata": {},
   "outputs": [],
   "source": []
  },
  {
   "cell_type": "code",
   "execution_count": null,
   "id": "1172fc48",
   "metadata": {},
   "outputs": [],
   "source": []
  }
 ],
 "metadata": {
  "kernelspec": {
   "display_name": "Python 3",
   "language": "python",
   "name": "python3"
  },
  "language_info": {
   "codemirror_mode": {
    "name": "ipython",
    "version": 3
   },
   "file_extension": ".py",
   "mimetype": "text/x-python",
   "name": "python",
   "nbconvert_exporter": "python",
   "pygments_lexer": "ipython3",
   "version": "3.11.9"
  }
 },
 "nbformat": 4,
 "nbformat_minor": 5
}
