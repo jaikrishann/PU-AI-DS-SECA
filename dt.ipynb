{
 "cells": [
  {
   "cell_type": "markdown",
   "id": "09d6e42f",
   "metadata": {},
   "source": [
    "# Dictionary"
   ]
  },
  {
   "cell_type": "markdown",
   "id": "c62e1999",
   "metadata": {},
   "source": [
    "- A dictionary in Python is a collection of key-value\n",
    "    pairs, where:   \n",
    "- keys are unique and immutable (string,numbers,tuple) \n",
    "- values can be of any data type(list,string,int,dict etc)\n",
    "- Dict is unordered (before python3.7) but insertion-ordered(since python 3.7+)\n",
    "- dict is mutuable "
   ]
  },
  {
   "cell_type": "code",
   "execution_count": null,
   "id": "c4673ab0",
   "metadata": {},
   "outputs": [
    {
     "name": "stdout",
     "output_type": "stream",
     "text": [
      "{'name': 'John', 'age': 30, 'city': 'New York'}\n",
      "<class 'dict'>\n"
     ]
    }
   ],
   "source": [
    "## creating a dict \n",
    "dt = {\n",
    "    \"name\": \"John\",\n",
    "    \"age\": 30,\n",
    "    \"city\": \"New York\"\n",
    "}\n",
    "print(dt)\n",
    "print(type(dt))"
   ]
  },
  {
   "cell_type": "code",
   "execution_count": 2,
   "id": "c14a3264",
   "metadata": {},
   "outputs": [
    {
     "name": "stdout",
     "output_type": "stream",
     "text": [
      "{'name': 'John', 'age': 30, 'city': 'New York'}\n",
      "<class 'dict'>\n"
     ]
    }
   ],
   "source": [
    "#dict() constructor \n",
    "dt = dict(name=\"John\", age=30, city=\"New York\")\n",
    "print(dt)\n",
    "print(type(dt))"
   ]
  },
  {
   "cell_type": "code",
   "execution_count": 14,
   "id": "0872e9af",
   "metadata": {},
   "outputs": [
    {
     "name": "stdout",
     "output_type": "stream",
     "text": [
      "{'name': 'Jane', 'age': 30, 'city': 'New York', 'hobby': 'cricket'}\n"
     ]
    }
   ],
   "source": [
    "## accessing elements \n",
    "dt = {\n",
    "    \"name\": \"John\",\n",
    "    \"age\": 30,\n",
    "    \"city\": \"New York\"\n",
    "}\n",
    "# print(dt[\"city\"])\n",
    "# dt[\"city\"] = \"India\"\n",
    "\n",
    "#dict methods \n",
    "# print(dt.get(\"name\"))\n",
    "# print(dt.keys())\n",
    "# print(dt.values())\n",
    "# print(dt.items())\n",
    "# print(dt.pop(\"city\"))\n",
    "\n",
    "# print(dt.popitem())\n",
    "dt.update({\"name\": \"Jane\",\"hobby\" : \"cricket\"})\n",
    "print(dt)\n"
   ]
  },
  {
   "cell_type": "code",
   "execution_count": null,
   "id": "dc588f58",
   "metadata": {},
   "outputs": [],
   "source": []
  }
 ],
 "metadata": {
  "kernelspec": {
   "display_name": "Python 3",
   "language": "python",
   "name": "python3"
  },
  "language_info": {
   "codemirror_mode": {
    "name": "ipython",
    "version": 3
   },
   "file_extension": ".py",
   "mimetype": "text/x-python",
   "name": "python",
   "nbconvert_exporter": "python",
   "pygments_lexer": "ipython3",
   "version": "3.11.9"
  }
 },
 "nbformat": 4,
 "nbformat_minor": 5
}
