{
 "cells": [
  {
   "cell_type": "code",
   "execution_count": 3,
   "id": "77aeea58",
   "metadata": {},
   "outputs": [
    {
     "name": "stdout",
     "output_type": "stream",
     "text": [
      "from India\n",
      "from USA\n"
     ]
    }
   ],
   "source": [
    "#default parameter =\n",
    "\n",
    "def country(name = \"India\" ):\n",
    "    print(\"from\",name)\n",
    "\n",
    "country()\n",
    "country(\"USA\")"
   ]
  },
  {
   "cell_type": "code",
   "execution_count": null,
   "id": "7613e41a",
   "metadata": {},
   "outputs": [],
   "source": [
    "#built in functions \n",
    "# lambda , map , filter , reduce , zip , enumerate"
   ]
  },
  {
   "cell_type": "code",
   "execution_count": null,
   "id": "edfec1d7",
   "metadata": {},
   "outputs": [
    {
     "data": {
      "text/plain": [
       "30"
      ]
     },
     "execution_count": 6,
     "metadata": {},
     "output_type": "execute_result"
    }
   ],
   "source": [
    "#lambda -->  a small anonymous function\n",
    "# single line of code \n",
    "#syntax\n",
    "#lambda arguments : expression\n",
    "#arg -- > n number of arguments\n",
    "#exp --> only 1 \n",
    "\n",
    "# def add(a,b):\n",
    "#     print(a+b)\n",
    "# add(10,20)\n",
    "\n",
    "add = lambda a , b,c , d  :a+b-c*d \n",
    "\n",
    "add(10,20)"
   ]
  },
  {
   "cell_type": "code",
   "execution_count": 12,
   "id": "70fa4da6",
   "metadata": {},
   "outputs": [
    {
     "data": {
      "text/plain": [
       "[1, 4, 9, 16, 25]"
      ]
     },
     "execution_count": 12,
     "metadata": {},
     "output_type": "execute_result"
    }
   ],
   "source": [
    "#map -- (function , iterable)\n",
    "# map function is used to apply a function to each item in an iterable\n",
    "# and return a new iterable\n",
    "#it gives output in the form of map object to convert we use type casting(\n",
    "# into list and tuple)\n",
    "# \n",
    "# def sq(n):\n",
    "#     return n*n  \n",
    "\n",
    "lst = [1,2,3,4,5]\n",
    "new = list(map(lambda n : n*n,lst))\n",
    "new"
   ]
  },
  {
   "cell_type": "code",
   "execution_count": null,
   "id": "bffd32df",
   "metadata": {},
   "outputs": [],
   "source": [
    "#filter(function , iterable)\n",
    "# filter function is used to filter elements from an iterable\n",
    "#  based on a condition\n",
    "\n",
    "def even(n):\n",
    "    if n%2 == 0:\n",
    "        return True\n",
    "    else:\n",
    "        return False\n",
    "lst = [1,2,3,4,5]\n",
    "new = list(filter(even,lst))\n",
    "new"
   ]
  },
  {
   "cell_type": "code",
   "execution_count": null,
   "id": "3c91eddd",
   "metadata": {},
   "outputs": [
    {
     "data": {
      "text/plain": [
       "[('a', 1), ('b', 2), ('c', 3)]"
      ]
     },
     "execution_count": 14,
     "metadata": {},
     "output_type": "execute_result"
    }
   ],
   "source": [
    "#zip -- > (iterable1 , iterable2 , .......) \n",
    "#zip function is used to combine multiple iterables into a single iterable\n",
    "lst = [\"a\",\"b\",\"c\",\"d\"]\n",
    "lst1 = [1,2,3]\n",
    "new = list(zip(lst,lst1))\n",
    "new"
   ]
  },
  {
   "cell_type": "code",
   "execution_count": null,
   "id": "703f7fe7",
   "metadata": {},
   "outputs": [
    {
     "data": {
      "text/plain": [
       "[(12, 'a'), (13, 'b'), (14, 'c'), (15, 'd')]"
      ]
     },
     "execution_count": 16,
     "metadata": {},
     "output_type": "execute_result"
    }
   ],
   "source": [
    "#enumerate -- > (iterable)\n",
    "#enumerate function is used to add a counter(index) to an iterable\n",
    "lst = [\"a\",\"b\",\"c\",\"d\"]\n",
    "new = list(enumerate(lst,start=12))\n",
    "new"
   ]
  },
  {
   "cell_type": "code",
   "execution_count": null,
   "id": "2758d525",
   "metadata": {},
   "outputs": [],
   "source": [
    "#exception handling-->error se deal \n",
    "# try -- > code that might raise an exception\n",
    "# except --> code to handle the exception\n",
    "#  else --> code to execute if no exception is raised\n",
    "# finally --> code to execute regardless of whether \n",
    "# an exception is raised or not."
   ]
  },
  {
   "cell_type": "code",
   "execution_count": 21,
   "id": "073f40f0",
   "metadata": {},
   "outputs": [
    {
     "name": "stdout",
     "output_type": "stream",
     "text": [
      "1.0\n",
      "else block\n",
      "finally block\n"
     ]
    }
   ],
   "source": [
    "try:\n",
    "    print(10/10)\n",
    "except ZeroDivisionError as e:\n",
    "    print(e)\n",
    "else:\n",
    "    \n",
    "    print(\"else block\")\n",
    "finally:\n",
    "    print(\"finally block\")\n"
   ]
  },
  {
   "cell_type": "code",
   "execution_count": null,
   "id": "73e129ba",
   "metadata": {},
   "outputs": [],
   "source": []
  }
 ],
 "metadata": {
  "kernelspec": {
   "display_name": "Python 3",
   "language": "python",
   "name": "python3"
  },
  "language_info": {
   "codemirror_mode": {
    "name": "ipython",
    "version": 3
   },
   "file_extension": ".py",
   "mimetype": "text/x-python",
   "name": "python",
   "nbconvert_exporter": "python",
   "pygments_lexer": "ipython3",
   "version": "3.11.9"
  }
 },
 "nbformat": 4,
 "nbformat_minor": 5
}
