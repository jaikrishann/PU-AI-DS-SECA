{
 "cells": [
  {
   "cell_type": "markdown",
   "id": "46505a89",
   "metadata": {},
   "source": [
    "## while loop"
   ]
  },
  {
   "cell_type": "code",
   "execution_count": null,
   "id": "0c2ae69a",
   "metadata": {},
   "outputs": [],
   "source": [
    "#what is a while loop ? \n",
    "# a while loop repeatedly executes a block of code \n",
    "# as  long as a condition is True.\n",
    "\n",
    "#syntax \n",
    "# while condition:\n",
    "    #block of code \n"
   ]
  },
  {
   "cell_type": "code",
   "execution_count": 3,
   "id": "6000541e",
   "metadata": {},
   "outputs": [
    {
     "name": "stdout",
     "output_type": "stream",
     "text": [
      "count is: 1\n",
      "count is: 2\n",
      "count is: 3\n",
      "count is: 4\n",
      "count is: 5\n",
      "loop completed\n"
     ]
    }
   ],
   "source": [
    "count = 1\n",
    "while count<= 5:\n",
    "    print(\"count is:\",count)\n",
    "    count +=1\n",
    "else:\n",
    "    print(\"loop completed\")"
   ]
  },
  {
   "cell_type": "code",
   "execution_count": 4,
   "id": "ab18927a",
   "metadata": {},
   "outputs": [
    {
     "name": "stdout",
     "output_type": "stream",
     "text": [
      "5\n",
      "4\n",
      "3\n",
      "2\n",
      "1\n"
     ]
    }
   ],
   "source": [
    "n = 5 \n",
    "while n>0 :\n",
    "    print(n)\n",
    "    n -=1\n"
   ]
  },
  {
   "cell_type": "code",
   "execution_count": null,
   "id": "2fb828f5",
   "metadata": {},
   "outputs": [
    {
     "name": "stdout",
     "output_type": "stream",
     "text": [
      "loop finished\n"
     ]
    }
   ],
   "source": [
    "## break , continue , pass \n",
    "\n",
    "# n = 5 \n",
    "# while n>0 :\n",
    "#     pass \n",
    "\n",
    "# x = 0 \n",
    "# while x < 5:\n",
    "#     x+=1 \n",
    "#     if x ==3:\n",
    "#         continue\n",
    "#     print(x)\n",
    "\n",
    "# i = 0 \n",
    "# while i <=10:\n",
    "#     if i ==5:\n",
    "#         break \n",
    "#     print(i)\n",
    "#     i +=1\n",
    "\n",
    "# i = 0 \n",
    "# while i <5:\n",
    "#     pass\n",
    "#     i +=1\n",
    "# print(\"loop finished\")"
   ]
  },
  {
   "cell_type": "code",
   "execution_count": null,
   "id": "57e9745e",
   "metadata": {},
   "outputs": [
    {
     "name": "stdout",
     "output_type": "stream",
     "text": [
      "the total sum is: 27\n"
     ]
    }
   ],
   "source": [
    "# write a while loop that asks the user to input \n",
    "#numbers and keeps a running sum until the user\n",
    "# enters 0 \n",
    "\n",
    "total = 0 \n",
    "while True:\n",
    "    number = int(input(\"enter a number(0 to stop)\"))\n",
    "\n",
    "    if number == 0:\n",
    "        break\n",
    "    total += number \n",
    "print(\"the total sum is:\",total)\n",
    "\n"
   ]
  },
  {
   "cell_type": "code",
   "execution_count": 13,
   "id": "3499572c",
   "metadata": {},
   "outputs": [
    {
     "name": "stdout",
     "output_type": "stream",
     "text": [
      "1\n",
      "2\n",
      "3\n",
      "4\n",
      "5\n",
      "6\n",
      "7\n",
      "8\n",
      "9\n",
      "10\n",
      "11\n",
      "12\n",
      "13\n",
      "14\n",
      "15\n",
      "16\n",
      "17\n",
      "18\n",
      "19\n",
      "20\n"
     ]
    }
   ],
   "source": [
    "## write a loop that prints numbers from 1 to 100\n",
    "#but stops if the number is divisible by both 3 and 7\n",
    "\n",
    "num = 1 \n",
    "while num <=100:\n",
    "    if num %3 ==0 and num %7 ==0 :\n",
    "        break\n",
    "    print(num)\n",
    "    num+=1\n"
   ]
  },
  {
   "cell_type": "code",
   "execution_count": null,
   "id": "fc51d984",
   "metadata": {},
   "outputs": [],
   "source": []
  }
 ],
 "metadata": {
  "kernelspec": {
   "display_name": "Python 3",
   "language": "python",
   "name": "python3"
  },
  "language_info": {
   "codemirror_mode": {
    "name": "ipython",
    "version": 3
   },
   "file_extension": ".py",
   "mimetype": "text/x-python",
   "name": "python",
   "nbconvert_exporter": "python",
   "pygments_lexer": "ipython3",
   "version": "3.11.9"
  }
 },
 "nbformat": 4,
 "nbformat_minor": 5
}
