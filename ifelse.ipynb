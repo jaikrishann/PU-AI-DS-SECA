{
 "cells": [
  {
   "cell_type": "markdown",
   "id": "bb76cc4a",
   "metadata": {},
   "source": [
    "## Conditional Statements\n",
    "- IF , ELSE and ELIF"
   ]
  },
  {
   "cell_type": "markdown",
   "id": "88979262",
   "metadata": {},
   "source": []
  },
  {
   "cell_type": "code",
   "execution_count": null,
   "id": "bc7589fa",
   "metadata": {},
   "outputs": [],
   "source": [
    "#what are conditional statements ?\n",
    "# CS are used to make decisions in a program \n",
    "#\n",
    "#  they allow the program to execute different \n",
    "#code blocks depending on whether a condition \n",
    "# is true or false"
   ]
  },
  {
   "cell_type": "code",
   "execution_count": 2,
   "id": "bdc57cb1",
   "metadata": {},
   "outputs": [],
   "source": [
    "#the if statement \n",
    "# if checks a condition (boolean expression)\n",
    "# if the condition is true , the indented block runs\n",
    "age = 10 \n",
    "if age >=18:\n",
    "    print(\"you can vote\")\n",
    "    print(\"you can drive\")"
   ]
  },
  {
   "cell_type": "code",
   "execution_count": null,
   "id": "76f3fa3b",
   "metadata": {},
   "outputs": [],
   "source": [
    "## the else statement \n",
    "#used when the if condition is false \n",
    "age = 10 \n",
    "if age >=18:\n",
    "    print(\"you can vote\")\n",
    "    print(\"you can drive\")\n",
    "else:\n",
    "    print(\"you cannot vote\")\n",
    "    print(\"you cannot drive\")"
   ]
  }
 ],
 "metadata": {
  "kernelspec": {
   "display_name": "Python 3",
   "language": "python",
   "name": "python3"
  },
  "language_info": {
   "codemirror_mode": {
    "name": "ipython",
    "version": 3
   },
   "file_extension": ".py",
   "mimetype": "text/x-python",
   "name": "python",
   "nbconvert_exporter": "python",
   "pygments_lexer": "ipython3",
   "version": "3.11.9"
  }
 },
 "nbformat": 4,
 "nbformat_minor": 5
}
