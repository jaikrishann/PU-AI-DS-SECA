{
 "cells": [
  {
   "cell_type": "markdown",
   "id": "bb76cc4a",
   "metadata": {},
   "source": [
    "## Conditional Statements\n",
    "- IF , ELSE and ELIF"
   ]
  },
  {
   "cell_type": "code",
   "execution_count": null,
   "id": "bc7589fa",
   "metadata": {},
   "outputs": [],
   "source": [
    "#what are conditional statements ?\n",
    "# CS are used to make decisions in a program \n",
    "#\n",
    "#  they allow the program to execute different \n",
    "#code blocks depending on whether a condition \n",
    "# is true or false"
   ]
  },
  {
   "cell_type": "code",
   "execution_count": 2,
   "id": "bdc57cb1",
   "metadata": {},
   "outputs": [],
   "source": [
    "#the if statement \n",
    "# if checks a condition (boolean expression)\n",
    "# if the condition is true , the indented block runs\n",
    "age = 10 \n",
    "if age >=18:\n",
    "    print(\"you can vote\")\n",
    "    print(\"you can drive\")"
   ]
  },
  {
   "cell_type": "code",
   "execution_count": 3,
   "id": "76f3fa3b",
   "metadata": {},
   "outputs": [
    {
     "name": "stdout",
     "output_type": "stream",
     "text": [
      "you cannot vote\n",
      "you cannot drive\n"
     ]
    }
   ],
   "source": [
    "## the else statement \n",
    "#used when the if condition is false \n",
    "age = 10 \n",
    "if age >=18:\n",
    "    print(\"you can vote\")\n",
    "    print(\"you can drive\")\n",
    "else:\n",
    "    print(\"you cannot vote\")\n",
    "    print(\"you cannot drive\")"
   ]
  },
  {
   "cell_type": "code",
   "execution_count": null,
   "id": "afb68ee3",
   "metadata": {},
   "outputs": [],
   "source": [
    "#the elif statement:\n",
    "#used to check multiple conditions \n",
    "#evaluates the first condition that evaluates to true \n",
    "marks = 75\n",
    "if marks >= 90:\n",
    "    print(\"A\")\n",
    "elif marks >= 80:\n",
    "    print(\"B\")\n",
    "elif marks >= 70:\n",
    "    print(\"C\")\n",
    "elif marks >= 60:\n",
    "    print(\"D\")\n",
    "else:\n",
    "    print(\"F\")"
   ]
  },
  {
   "cell_type": "code",
   "execution_count": null,
   "id": "4be3d8d4",
   "metadata": {},
   "outputs": [],
   "source": [
    "#nested if statements \n",
    "#an if statement inside another if statement\n",
    "age = 26 \n",
    "if age >= 18:\n",
    "    print(\"you can vote\")\n",
    "    if age >= 21:\n",
    "        print(\"you can drive\")\n",
    "    else:\n",
    "        print(\"you cannot drive\")\n",
    "else:\n",
    "    print(\"you cannot vote\")"
   ]
  },
  {
   "cell_type": "code",
   "execution_count": null,
   "id": "35dc3898",
   "metadata": {},
   "outputs": [],
   "source": [
    "#short hand if-else(ternary) operator\n",
    "age = 10 \n",
    "print(\"you can vote\") if age >=18 else print(\"you cannot vote\")\n",
    "    \n",
    "    "
   ]
  },
  {
   "cell_type": "code",
   "execution_count": 4,
   "id": "c17ff077",
   "metadata": {},
   "outputs": [],
   "source": [
    "#short hand if \n",
    "age = 10 \n",
    "if age >=18:print(\"you can vote\")\n",
    "    "
   ]
  },
  {
   "cell_type": "code",
   "execution_count": 6,
   "id": "77cb4d06",
   "metadata": {},
   "outputs": [
    {
     "name": "stdout",
     "output_type": "stream",
     "text": [
      "grade C\n"
     ]
    }
   ],
   "source": [
    "#short hand if-elif-else\n",
    "marks = 70 \n",
    "print(\"grade A\") if marks>=90 else print(\"grade B\") if marks>=80 else print(\"grade C\")"
   ]
  },
  {
   "cell_type": "code",
   "execution_count": 9,
   "id": "f1e6605c",
   "metadata": {},
   "outputs": [
    {
     "name": "stdout",
     "output_type": "stream",
     "text": [
      "a and c are 10\n"
     ]
    }
   ],
   "source": [
    "## logical op (and,or , not)\n",
    "#used to combine multiple conditions\n",
    "a = 10 \n",
    "b  = 20 \n",
    "c = 10 \n",
    "if a==10 or  b ==10: \n",
    "    print(\"a and c are 10\")\n",
    "else:\n",
    "    print(\"a and c are not 10\")\n"
   ]
  },
  {
   "cell_type": "code",
   "execution_count": null,
   "id": "ce283841",
   "metadata": {},
   "outputs": [],
   "source": []
  },
  {
   "cell_type": "code",
   "execution_count": 11,
   "id": "b441380c",
   "metadata": {},
   "outputs": [
    {
     "name": "stdout",
     "output_type": "stream",
     "text": [
      "false\n"
     ]
    }
   ],
   "source": [
    "##python treats some values as false:\n",
    "# False , None , 0 , \"\"(empty string),\n",
    "#[],{},set()\n",
    "if []:\n",
    "    print(\"true\")\n",
    "else:\n",
    "    print(\"false\")\n"
   ]
  },
  {
   "cell_type": "code",
   "execution_count": null,
   "id": "0310fdde",
   "metadata": {},
   "outputs": [],
   "source": [
    "#check if a number is even or odd\n",
    "#check if a number is divisible by 5 and 7 \n",
    "#check if a year is a leap year or not \n",
    "#check if a character is a vowel, consonant or not a alphabet\n",
    "\n",
    "#q -- take a number from the user and print it in words \n",
    "#(eg --> 452 = four hundred and fifty two) (1-9999)"
   ]
  },
  {
   "cell_type": "code",
   "execution_count": null,
   "id": "499654c5",
   "metadata": {},
   "outputs": [],
   "source": [
    "num = int(input(\"enter a number\"))\n",
    "if num % 5 ==0 and num % 7 ==0:\n",
    "    print(\"number is divisible by 5 and 7\")\n",
    "elif num % 5 ==0:\n",
    "    print(\"number is divisible by 5\")\n",
    "elif num % 7 ==0:\n",
    "    print(\"number is divisible by 7\")\n",
    "else:\n",
    "    print(\"number is not divisible by 5 and 7\")"
   ]
  },
  {
   "cell_type": "code",
   "execution_count": null,
   "id": "776eccd3",
   "metadata": {},
   "outputs": [],
   "source": [
    "char = input(\"enter a character\")\n",
    "# if char== a or char == e or char == i or char == o or char == u:\n",
    "if char.islower():\n",
    "    if char == \"a\" or char == \"e\" or char == \"i\" or char == \"o\" or char == \"u\":\n",
    "        print(\"vowel\")\n",
    "    else:\n",
    "        print(\"consonant\")\n",
    "else:\n",
    "    print(\"not a alphabet\")"
   ]
  }
 ],
 "metadata": {
  "kernelspec": {
   "display_name": "Python 3",
   "language": "python",
   "name": "python3"
  },
  "language_info": {
   "codemirror_mode": {
    "name": "ipython",
    "version": 3
   },
   "file_extension": ".py",
   "mimetype": "text/x-python",
   "name": "python",
   "nbconvert_exporter": "python",
   "pygments_lexer": "ipython3",
   "version": "3.11.9"
  }
 },
 "nbformat": 4,
 "nbformat_minor": 5
}
