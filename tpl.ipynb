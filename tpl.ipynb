{
 "cells": [
  {
   "cell_type": "code",
   "execution_count": null,
   "id": "7bcf6be8",
   "metadata": {},
   "outputs": [],
   "source": [
    "# tuple \n",
    "# tuples are represented by ()\n",
    "\n",
    "##features \n",
    "# immutable \n",
    "# ordered\n",
    "# allows duplicate values\n"
   ]
  },
  {
   "cell_type": "code",
   "execution_count": 1,
   "id": "222b21ef",
   "metadata": {},
   "outputs": [
    {
     "name": "stdout",
     "output_type": "stream",
     "text": [
      "(1, 2, 'ace', True, 'ace', 22.34)\n",
      "<class 'tuple'>\n"
     ]
    }
   ],
   "source": [
    "tpl = (1,2,\"ace\",True,\"ace\",22.34)\n",
    "print(tpl)\n",
    "print(type(tpl))"
   ]
  },
  {
   "cell_type": "code",
   "execution_count": 3,
   "id": "ab1ad9db",
   "metadata": {},
   "outputs": [
    {
     "name": "stdout",
     "output_type": "stream",
     "text": [
      "('ace',)\n",
      "<class 'tuple'>\n"
     ]
    }
   ],
   "source": [
    "tpl = (\"ace\",)\n",
    "print(tpl)\n",
    "print(type(tpl))"
   ]
  },
  {
   "cell_type": "code",
   "execution_count": null,
   "id": "5344c400",
   "metadata": {},
   "outputs": [
    {
     "data": {
      "text/plain": [
       "2"
      ]
     },
     "execution_count": 5,
     "metadata": {},
     "output_type": "execute_result"
    }
   ],
   "source": [
    "#\n",
    "tpl = (\"red\",\"black\",\"green\")\n",
    "# tpl[3] = \"blue\"\n",
    "# tpl.count(\"red\")\n",
    "# tpl.index(\"green\")"
   ]
  },
  {
   "cell_type": "code",
   "execution_count": null,
   "id": "62f665b6",
   "metadata": {},
   "outputs": [],
   "source": [
    "#list- shopping cart  ,tuple - roll no , coordinates\n",
    "#  "
   ]
  },
  {
   "cell_type": "code",
   "execution_count": null,
   "metadata": {},
   "outputs": [],
   "source": []
  },
  {
   "cell_type": "code",
   "execution_count": null,
   "metadata": {},
   "outputs": [],
   "source": []
  }
 ],
 "metadata": {
  "kernelspec": {
   "display_name": "Python 3",
   "language": "python",
   "name": "python3"
  },
  "language_info": {
   "codemirror_mode": {
    "name": "ipython",
    "version": 3
   },
   "file_extension": ".py",
   "mimetype": "text/x-python",
   "name": "python",
   "nbconvert_exporter": "python",
   "pygments_lexer": "ipython3",
   "version": "3.11.9"
  }
 },
 "nbformat": 4,
 "nbformat_minor": 5
}
